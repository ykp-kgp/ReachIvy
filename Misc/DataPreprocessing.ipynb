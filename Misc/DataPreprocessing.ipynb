{
 "cells": [
  {
   "cell_type": "code",
   "execution_count": 25,
   "metadata": {},
   "outputs": [],
   "source": [
    "import nltk\n",
    "import re\n",
    "import string"
   ]
  },
  {
   "cell_type": "code",
   "execution_count": 26,
   "metadata": {},
   "outputs": [],
   "source": [
    "# text = ''' Storytime with my 78 year old grandfather was a terrifying thing. With astounding skill, he would seep blood into our carpet and perforate our walls with bullets from a civil war fought before I was born. But what truly frightened me about storytime was my grandfather, who spoke of massacres gloriously, almost with nostalgia, like the people who had died were not real.\n",
    "\n",
    " \n",
    "\n",
    "# He told the child I was every story he knew about that war but would not tell me about the battle that took his legs.\n",
    "\n",
    " \n",
    "\n",
    "# This was the reason I sat by his stumps each night and listened to stories I hated—because I wanted to know. But it was also because I understood that his storytelling was a kind of exorcism for him. He had not walked since 1970, would never walk again for a country that had not improved, a country spitting on the bloody sacrifices he and his generation had made of their innocence, their limbs, their lives. How does one live with that? My grandfather does not; he has created a different reality for himself where the war was a beautiful, worthy thing, and he lets me into it. The story of his legs did not belong in this reality, so I lusted after it with the brand of hunger I reserved for things I subconsciously knew I would not get.\n",
    "\n",
    " \n",
    "\n",
    "# My grandfather deserved a reality he could cope with enough to admit. I couldn’t reverse the war, couldn’t raise the friends he had lost, but I thought he should walk, that a man deserved to move his feet upon the land he loved.\n",
    "\n",
    " \n",
    "\n",
    "# Although there were indeed prosthetics in Nigerian hospitals, he had no income source whatsoever and could barely even afford a bag of rice to sustain himself.\n",
    "\n",
    " \n",
    "\n",
    "# Day by day, I searched for answers in my introductory science textbook, but to no avail. I carried on this search in high school and made my biology textbook my companion. I studied the body systems in-depth for clues, but I found nothing. One day, I came across Biomechanics, and seeing that it had my answer made me want to study it in college.\n",
    "\n",
    " \n",
    "\n",
    "# Then came another mammoth task of deciding my place of study. I kept searching and researching, without seeming to find any place fit for me until I came across Cornell’s novel 3D printed prosthetic limbs in the “Silicon Review.” Light, flexible, and cost-effective –a miracle, just what grandpa needed. I had found my home, the home of this model – Sibley School of Mechanical & Aerospace Engineering.\n",
    "\n",
    " \n",
    "\n",
    "# I intend to channel the research experience I gained from Pioneer Academics into Cornell’s undergraduate research programs at Sibley – specifically, the research on orthopedic biomechanics currently ongoing at the Van der Meulen lab. I hope to work with intellectual, goal-driven scholars at Cornell and develop better and safer models of the 3D prosthetic. Also, Cornell’s Tech Summer Research Experience gives me an opportunity to work with engineers in different disciplines, thus diversifying my abilities and improving my innovation. I hope to work at the Nikolaos Bouklos faculty, where I would learn about the model’s unpredictability and explore ways to stabilize it while receiving guidance from Cornell’s world-class faculty mentors.\n",
    "\n",
    " \n",
    "\n",
    "# My life as a Cornell engineer would not be about theory alone. I intend to gain hands-on experience for medical school from the Hospital for Special Surgery and work with body systems to understand the physical, electrical and chemical connections between limbs and prosthetics – a fantastic opportunity for an outstanding, well-rounded education! I love to play soccer, and I hope to learn from the Big Red and become better while contributing my skills to give our opponents the claw.\n",
    "\n",
    " \n",
    "\n",
    "# Fearless and brave, grandpa has been more than an inspiration to me. I hope to repay him in the best way possible, and a Cornell education is what I need to actualize my dream.'''"
   ]
  },
  {
   "cell_type": "code",
   "execution_count": 27,
   "metadata": {},
   "outputs": [],
   "source": [
    "# Function to change it to lowercase\n",
    "def text_lowercase(text):\n",
    "    return text.lower()"
   ]
  },
  {
   "cell_type": "code",
   "execution_count": 34,
   "metadata": {},
   "outputs": [
    {
     "name": "stdout",
     "output_type": "stream",
     "text": [
      "Storytime with my seventy-eight year old grandfather was a terrifying thing. With astounding skill, he would seep blood into our carpet and perforate our walls with bullets from a civil war fought before I was born. But what truly frightened me about storytime was my grandfather, who spoke of massacres gloriously, almost with nostalgia, like the people who had died were not real. He told the child I was every story he knew about that war but would not tell me about the battle that took his legs. This was the reason I sat by his stumps each night and listened to stories I hated—because I wanted to know. But it was also because I understood that his storytelling was a kind of exorcism for him. He had not walked since 1970, would never walk again for a country that had not improved, a country spitting on the bloody sacrifices he and his generation had made of their innocence, their limbs, their lives. How does one live with that? My grandfather does not; he has created a different reality for himself where the war was a beautiful, worthy thing, and he lets me into it. The story of his legs did not belong in this reality, so I lusted after it with the brand of hunger I reserved for things I subconsciously knew I would not get. My grandfather deserved a reality he could cope with enough to admit. I couldn’t reverse the war, couldn’t raise the friends he had lost, but I thought he should walk, that a man deserved to move his feet upon the land he loved. Although there were indeed prosthetics in Nigerian hospitals, he had no income source whatsoever and could barely even afford a bag of rice to sustain himself. Day by day, I searched for answers in my introductory science textbook, but to no avail. I carried on this search in high school and made my biology textbook my companion. I studied the body systems in-depth for clues, but I found nothing. One day, I came across Biomechanics, and seeing that it had my answer made me want to study it in college. Then came another mammoth task of deciding my place of study. I kept searching and researching, without seeming to find any place fit for me until I came across Cornell’s novel 3D printed prosthetic limbs in the “Silicon Review.” Light, flexible, and cost-effective –a miracle, just what grandpa needed. I had found my home, the home of this model – Sibley School of Mechanical & Aerospace Engineering. I intend to channel the research experience I gained from Pioneer Academics into Cornell’s undergraduate research programs at Sibley – specifically, the research on orthopedic biomechanics currently ongoing at the Van der Meulen lab. I hope to work with intellectual, goal-driven scholars at Cornell and develop better and safer models of the 3D prosthetic. Also, Cornell’s Tech Summer Research Experience gives me an opportunity to work with engineers in different disciplines, thus diversifying my abilities and improving my innovation. I hope to work at the Nikolaos Bouklos faculty, where I would learn about the model’s unpredictability and explore ways to stabilize it while receiving guidance from Cornell’s world-class faculty mentors. My life as a Cornell engineer would not be about theory alone. I intend to gain hands-on experience for medical school from the Hospital for Special Surgery and work with body systems to understand the physical, electrical and chemical connections between limbs and prosthetics – a fantastic opportunity for an outstanding, well-rounded education! I love to play soccer, and I hope to learn from the Big Red and become better while contributing my skills to give our opponents the claw. Fearless and brave, grandpa has been more than an inspiration to me. I hope to repay him in the best way possible, and a Cornell education is what I need to actualize my dream.\n"
     ]
    }
   ],
   "source": [
    "import inflect\n",
    "p = inflect.engine()\n",
    "\n",
    "# convert number into words\n",
    "def convert_number(text):\n",
    "    temp_str = text.split()\n",
    "    new_string = []\n",
    "\n",
    "    for word in temp_str:\n",
    "        if word.isdigit():\n",
    "            temp = p.number_to_words(word)\n",
    "            new_string.append(temp)\n",
    "        else:\n",
    "            new_string.append(word)\n",
    "    temp_str = ' '.join(new_string)\n",
    "    return temp_str\n"
   ]
  },
  {
   "cell_type": "code",
   "execution_count": 29,
   "metadata": {},
   "outputs": [
    {
     "name": "stdout",
     "output_type": "stream",
     "text": [
      "Storytime with my seventyeight year old grandfather was a terrifying thing With astounding skill he would seep blood into our carpet and perforate our walls with bullets from a civil war fought before I was born But what truly frightened me about storytime was my grandfather who spoke of massacres gloriously almost with nostalgia like the people who had died were not real He told the child I was every story he knew about that war but would not tell me about the battle that took his legs This was the reason I sat by his stumps each night and listened to stories I hated—because I wanted to know But it was also because I understood that his storytelling was a kind of exorcism for him He had not walked since 1970 would never walk again for a country that had not improved a country spitting on the bloody sacrifices he and his generation had made of their innocence their limbs their lives How does one live with that My grandfather does not he has created a different reality for himself where the war was a beautiful worthy thing and he lets me into it The story of his legs did not belong in this reality so I lusted after it with the brand of hunger I reserved for things I subconsciously knew I would not get My grandfather deserved a reality he could cope with enough to admit I couldn’t reverse the war couldn’t raise the friends he had lost but I thought he should walk that a man deserved to move his feet upon the land he loved Although there were indeed prosthetics in Nigerian hospitals he had no income source whatsoever and could barely even afford a bag of rice to sustain himself Day by day I searched for answers in my introductory science textbook but to no avail I carried on this search in high school and made my biology textbook my companion I studied the body systems indepth for clues but I found nothing One day I came across Biomechanics and seeing that it had my answer made me want to study it in college Then came another mammoth task of deciding my place of study I kept searching and researching without seeming to find any place fit for me until I came across Cornell’s novel 3D printed prosthetic limbs in the “Silicon Review” Light flexible and costeffective –a miracle just what grandpa needed I had found my home the home of this model – Sibley School of Mechanical  Aerospace Engineering I intend to channel the research experience I gained from Pioneer Academics into Cornell’s undergraduate research programs at Sibley – specifically the research on orthopedic biomechanics currently ongoing at the Van der Meulen lab I hope to work with intellectual goaldriven scholars at Cornell and develop better and safer models of the 3D prosthetic Also Cornell’s Tech Summer Research Experience gives me an opportunity to work with engineers in different disciplines thus diversifying my abilities and improving my innovation I hope to work at the Nikolaos Bouklos faculty where I would learn about the model’s unpredictability and explore ways to stabilize it while receiving guidance from Cornell’s worldclass faculty mentors My life as a Cornell engineer would not be about theory alone I intend to gain handson experience for medical school from the Hospital for Special Surgery and work with body systems to understand the physical electrical and chemical connections between limbs and prosthetics – a fantastic opportunity for an outstanding wellrounded education I love to play soccer and I hope to learn from the Big Red and become better while contributing my skills to give our opponents the claw Fearless and brave grandpa has been more than an inspiration to me I hope to repay him in the best way possible and a Cornell education is what I need to actualize my dream\n"
     ]
    }
   ],
   "source": [
    "# remove punctuation\n",
    "def remove_punctuation(text):\n",
    "    translator = str.maketrans('', '', string.punctuation)\n",
    "    return text.translate(translator)\n"
   ]
  },
  {
   "cell_type": "code",
   "execution_count": 30,
   "metadata": {},
   "outputs": [],
   "source": [
    "# remove whitespace from text\n",
    "def remove_whitespace(text):\n",
    "    return  \" \".join(text.split())\n"
   ]
  },
  {
   "cell_type": "code",
   "execution_count": 31,
   "metadata": {},
   "outputs": [],
   "source": [
    "# import nltk\n",
    "# nltk.download('stopwords')\n",
    "# nltk.download('punkt')\n",
    "# nltk.download('wordnet')"
   ]
  },
  {
   "cell_type": "code",
   "execution_count": 32,
   "metadata": {},
   "outputs": [],
   "source": [
    "from nltk.corpus import stopwords\n",
    "from nltk.tokenize import word_tokenize\n",
    "\n",
    "# remove stopwords function\n",
    "# Stop word include words like 'is', 'the', 'and', etc.\n",
    "def remove_stopwords(text):\n",
    "    stop_words = set(stopwords.words(\"english\"))\n",
    "    word_tokens = word_tokenize(text)\n",
    "    filtered_text = [word for word in word_tokens if word not in stop_words]\n",
    "    return filtered_text\n"
   ]
  },
  {
   "cell_type": "code",
   "execution_count": 33,
   "metadata": {},
   "outputs": [],
   "source": [
    "from nltk.stem import WordNetLemmatizer\n",
    "from nltk.tokenize import word_tokenize\n",
    "lemmatizer = WordNetLemmatizer()\n",
    "\n",
    "def lemma_words(text):\n",
    "    word_tokens = word_tokenize(text)\n",
    "    lemmas = [lemmatizer.lemmatize(word) for word in word_tokens]\n",
    "    return lemmas\n"
   ]
  }
 ],
 "metadata": {
  "kernelspec": {
   "display_name": "myEnv",
   "language": "python",
   "name": "python3"
  },
  "language_info": {
   "codemirror_mode": {
    "name": "ipython",
    "version": 3
   },
   "file_extension": ".py",
   "mimetype": "text/x-python",
   "name": "python",
   "nbconvert_exporter": "python",
   "pygments_lexer": "ipython3",
   "version": "3.12.2"
  }
 },
 "nbformat": 4,
 "nbformat_minor": 2
}
